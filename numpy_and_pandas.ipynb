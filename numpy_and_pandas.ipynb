{
  "nbformat": 4,
  "nbformat_minor": 0,
  "metadata": {
    "colab": {
      "name": "numpy and pandas.ipynb",
      "provenance": []
    },
    "kernelspec": {
      "name": "python3",
      "display_name": "Python 3"
    },
    "language_info": {
      "name": "python"
    }
  },
  "cells": [
    {
      "cell_type": "code",
      "metadata": {
        "id": "mjtGtF5FagWD"
      },
      "source": [
        "import numpy as np\n",
        "import pandas as pd\n",
        "import matplotlib.pyplot as plt\n",
        "import seaborn as sns"
      ],
      "execution_count": null,
      "outputs": []
    },
    {
      "cell_type": "code",
      "metadata": {
        "id": "or1c1I-SEwv7"
      },
      "source": [
        ""
      ],
      "execution_count": null,
      "outputs": []
    },
    {
      "cell_type": "code",
      "metadata": {
        "id": "Xk_Tpfv1agYL",
        "colab": {
          "base_uri": "https://localhost:8080/"
        },
        "outputId": "e4504b65-e5a6-41fe-81e6-42d167e79647"
      },
      "source": [
        "list1 = [1,2,3]\n",
        "\n",
        "array = np.array(list1)\n",
        "array"
      ],
      "execution_count": null,
      "outputs": [
        {
          "output_type": "execute_result",
          "data": {
            "text/plain": [
              "array([1, 2, 3])"
            ]
          },
          "metadata": {
            "tags": []
          },
          "execution_count": 5
        }
      ]
    },
    {
      "cell_type": "code",
      "metadata": {
        "id": "bqk5rDV-agah",
        "colab": {
          "base_uri": "https://localhost:8080/"
        },
        "outputId": "755783d5-b45f-47c7-b78b-8d407812e92d"
      },
      "source": [
        "list1 = [1,2,3]\n",
        "list2 = [4,5,6]\n",
        "\n",
        "array = np.array([list1,list2])\n",
        "array"
      ],
      "execution_count": null,
      "outputs": [
        {
          "output_type": "execute_result",
          "data": {
            "text/plain": [
              "array([[1, 2, 3],\n",
              "       [4, 5, 6]])"
            ]
          },
          "metadata": {
            "tags": []
          },
          "execution_count": 8
        }
      ]
    },
    {
      "cell_type": "code",
      "metadata": {
        "id": "o2-q0FIOagcW",
        "colab": {
          "base_uri": "https://localhost:8080/"
        },
        "outputId": "89783dfe-ab12-4476-8ffe-c727a28170b6"
      },
      "source": [
        "list1 = [1,2,3]\n",
        "list2 = [4,5,6]\n",
        "\n",
        "array = np.hstack([list1,list2])\n",
        "array"
      ],
      "execution_count": null,
      "outputs": [
        {
          "output_type": "execute_result",
          "data": {
            "text/plain": [
              "array([1, 2, 3, 4, 5, 6])"
            ]
          },
          "metadata": {
            "tags": []
          },
          "execution_count": 22
        }
      ]
    },
    {
      "cell_type": "code",
      "metadata": {
        "id": "lVGq1ojbagec",
        "colab": {
          "base_uri": "https://localhost:8080/"
        },
        "outputId": "e85fbd07-5b92-4123-fb37-a77b4f4b9b15"
      },
      "source": [
        "list1 = [1,2,3]\n",
        "list2 = [4,5,6]\n",
        "\n",
        "array = np.vstack([list1,list2]).reshape(3,2)\n",
        "array"
      ],
      "execution_count": null,
      "outputs": [
        {
          "output_type": "execute_result",
          "data": {
            "text/plain": [
              "array([[1, 2],\n",
              "       [3, 4],\n",
              "       [5, 6]])"
            ]
          },
          "metadata": {
            "tags": []
          },
          "execution_count": 23
        }
      ]
    },
    {
      "cell_type": "code",
      "metadata": {
        "id": "gOLKk05Qaggi",
        "colab": {
          "base_uri": "https://localhost:8080/"
        },
        "outputId": "e2184148-128b-4da7-a371-13fe2605718e"
      },
      "source": [
        "list1 = [[1,2],[3,4],[5,6]]\n",
        "list2 = [[7,8],[9,10],[11,12]]\n",
        "\n",
        "array = np.hstack([list1,list2])\n",
        "array"
      ],
      "execution_count": null,
      "outputs": [
        {
          "output_type": "execute_result",
          "data": {
            "text/plain": [
              "array([[ 1,  2,  7,  8],\n",
              "       [ 3,  4,  9, 10],\n",
              "       [ 5,  6, 11, 12]])"
            ]
          },
          "metadata": {
            "tags": []
          },
          "execution_count": 25
        }
      ]
    },
    {
      "cell_type": "code",
      "metadata": {
        "id": "x_8M9mEzagj6",
        "colab": {
          "base_uri": "https://localhost:8080/"
        },
        "outputId": "aba0d22e-3f91-4f19-b47f-7719d89c22fb"
      },
      "source": [
        "list1 = [[1,2],[3,4],[5,6]]\n",
        "list2 = [[7,8],[9,10],[11,12]]\n",
        "\n",
        "array = np.vstack([list1,list2]).reshape(4,3)\n",
        "array"
      ],
      "execution_count": null,
      "outputs": [
        {
          "output_type": "execute_result",
          "data": {
            "text/plain": [
              "array([[ 1,  2,  3],\n",
              "       [ 4,  5,  6],\n",
              "       [ 7,  8,  9],\n",
              "       [10, 11, 12]])"
            ]
          },
          "metadata": {
            "tags": []
          },
          "execution_count": 38
        }
      ]
    },
    {
      "cell_type": "code",
      "metadata": {
        "colab": {
          "base_uri": "https://localhost:8080/"
        },
        "id": "IFLEH9dY9mbV",
        "outputId": "d016b686-f635-4c6c-c79c-34734a7eee8f"
      },
      "source": [
        "list1 = [[1,2],[3,4],[5,6]]\n",
        "list2 = [[7,8],[9,10],[11,12]]\n",
        "\n",
        "array2 = np.hstack([list1,list2]).reshape(4,3)\n",
        "array2"
      ],
      "execution_count": null,
      "outputs": [
        {
          "output_type": "execute_result",
          "data": {
            "text/plain": [
              "array([[ 1,  2,  7],\n",
              "       [ 8,  3,  4],\n",
              "       [ 9, 10,  5],\n",
              "       [ 6, 11, 12]])"
            ]
          },
          "metadata": {
            "tags": []
          },
          "execution_count": 36
        }
      ]
    },
    {
      "cell_type": "code",
      "metadata": {
        "colab": {
          "base_uri": "https://localhost:8080/"
        },
        "id": "Q4_NTdNk9meR",
        "outputId": "dd7504e1-bfab-443b-d076-34b755ebe069"
      },
      "source": [
        "np.zeros(3)"
      ],
      "execution_count": null,
      "outputs": [
        {
          "output_type": "execute_result",
          "data": {
            "text/plain": [
              "(3,)"
            ]
          },
          "metadata": {
            "tags": []
          },
          "execution_count": 40
        }
      ]
    },
    {
      "cell_type": "code",
      "metadata": {
        "colab": {
          "base_uri": "https://localhost:8080/"
        },
        "id": "QmIsWSKa9mgr",
        "outputId": "6d35a59c-a992-430d-f1a0-4b52d2345d53"
      },
      "source": [
        "list1 = [[1,2],[3,4],[5,6]]\n",
        "list2 = [[7,8],[9,10],[11,12]]\n",
        "\n",
        "array = np.hstack([list1,list2])\n",
        "array"
      ],
      "execution_count": null,
      "outputs": [
        {
          "output_type": "execute_result",
          "data": {
            "text/plain": [
              "array([[ 1,  2,  7,  8],\n",
              "       [ 3,  4,  9, 10],\n",
              "       [ 5,  6, 11, 12]])"
            ]
          },
          "metadata": {
            "tags": []
          },
          "execution_count": 42
        }
      ]
    },
    {
      "cell_type": "code",
      "metadata": {
        "colab": {
          "base_uri": "https://localhost:8080/"
        },
        "id": "DW_MqRh49mjB",
        "outputId": "c8fac1b7-7bf7-4b84-a3b9-26c877f90f74"
      },
      "source": [
        "array = np.random.randint(40,100,10)\n",
        "array.max()"
      ],
      "execution_count": null,
      "outputs": [
        {
          "output_type": "execute_result",
          "data": {
            "text/plain": [
              "97"
            ]
          },
          "metadata": {
            "tags": []
          },
          "execution_count": 74
        }
      ]
    },
    {
      "cell_type": "code",
      "metadata": {
        "colab": {
          "base_uri": "https://localhost:8080/"
        },
        "id": "ikRu5RIVHokc",
        "outputId": "d5b6fd7d-6df8-4d0a-f342-c7fb8eb4a8fe"
      },
      "source": [
        "vector = np.array(range(10))\n",
        "my_slice = vector[3:7]\n",
        "my_slice[:] = 20\n",
        "print(vector)"
      ],
      "execution_count": null,
      "outputs": [
        {
          "output_type": "stream",
          "text": [
            "[ 0  1  2 20 20 20 20  7  8  9]\n"
          ],
          "name": "stdout"
        }
      ]
    },
    {
      "cell_type": "code",
      "metadata": {
        "colab": {
          "base_uri": "https://localhost:8080/"
        },
        "id": "iP-GRz-xIVpm",
        "outputId": "c6327cdf-2fea-4282-dc2d-225de5dbe7d0"
      },
      "source": [
        "matrix"
      ],
      "execution_count": null,
      "outputs": [
        {
          "output_type": "execute_result",
          "data": {
            "text/plain": [
              "array([[1, 2, 3],\n",
              "       [4, 5, 6],\n",
              "       [7, 8, 9]])"
            ]
          },
          "metadata": {
            "tags": []
          },
          "execution_count": 86
        }
      ]
    },
    {
      "cell_type": "code",
      "metadata": {
        "colab": {
          "base_uri": "https://localhost:8080/"
        },
        "id": "wuocZArpHomo",
        "outputId": "9317fe34-5c85-4d8a-fe12-27a46e3758ae"
      },
      "source": [
        "matrix = np.array(range(1,10)).reshape((3,3))\n",
        "#matrix[0,0]\n",
        "#matrix[0][0] \n",
        "#matrix[2,2]  \n",
        "# matrix[2][2] \n",
        "\n",
        "output = np.array([1,2,3]).reshape(3,1)\n",
        "output\n",
        "\n",
        "matrix[2:3,:3]\n"
      ],
      "execution_count": null,
      "outputs": [
        {
          "output_type": "execute_result",
          "data": {
            "text/plain": [
              "array([[7, 8, 9]])"
            ]
          },
          "metadata": {
            "tags": []
          },
          "execution_count": 109
        }
      ]
    },
    {
      "cell_type": "code",
      "metadata": {
        "id": "AvpwvLR-Hoos"
      },
      "source": [
        ""
      ],
      "execution_count": null,
      "outputs": []
    },
    {
      "cell_type": "code",
      "metadata": {
        "id": "w6TWJ1kuHoqh"
      },
      "source": [
        ""
      ],
      "execution_count": null,
      "outputs": []
    }
  ]
}