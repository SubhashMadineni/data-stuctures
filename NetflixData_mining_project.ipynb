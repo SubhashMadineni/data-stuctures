{
  "nbformat": 4,
  "nbformat_minor": 0,
  "metadata": {
    "colab": {
      "name": "NetflixData_mining_project.ipynb",
      "provenance": [],
      "collapsed_sections": []
    },
    "kernelspec": {
      "name": "python3",
      "display_name": "Python 3"
    },
    "language_info": {
      "name": "python"
    },
    "accelerator": "TPU"
  },
  "cells": [
    {
      "cell_type": "code",
      "metadata": {
        "id": "PUzwuxSlmssX"
      },
      "source": [
        "w#pip install scikit-surprise"
      ],
      "execution_count": null,
      "outputs": []
    },
    {
      "cell_type": "code",
      "metadata": {
        "id": "TvPWglPWyTzW"
      },
      "source": [
        "import pandas as pd\n",
        "import numpy as np\n",
        "from scipy.sparse import csr_matrix\n",
        "import matplotlib.pyplot as plt\n",
        "import seaborn as sns\n",
        "from surprise import Reader, Dataset, SVD\n",
        "from surprise.model_selection import cross_validate"
      ],
      "execution_count": null,
      "outputs": []
    },
    {
      "cell_type": "markdown",
      "metadata": {
        "id": "L-IMSlRsSZPG"
      },
      "source": [
        "#Importing the dataset \n",
        "1. The dataset is given in a online hackathon by NETFLIX asking participants to Suggest the New movies for users based on their previous ratings given by all users. \n",
        "2. all the datasets are imported one by one and they are combined to make the final complete dataset."
      ]
    },
    {
      "cell_type": "code",
      "metadata": {
        "id": "FgXZ7JB2yZsF"
      },
      "source": [
        "df1 = pd.read_csv('/content/drive/MyDrive/Data_Mining_Project/combined_data_1.txt', header = None, names = ['Customer_Id', 'Rating'])\n",
        "df2 = pd.read_csv('/content/drive/MyDrive/Data_Mining_Project/combined_data_2.txt', header = None, names = ['Customer_Id', 'Rating'])\n",
        "df3 = pd.read_csv('/content/drive/MyDrive/Data_Mining_Project/combined_data_3.txt', header = None, names = ['Customer_Id', 'Rating'])       #importing thr datasets from drive\n",
        "df4 = pd.read_csv('/content/drive/MyDrive/Data_Mining_Project/combined_data_4.txt', header = None, names = ['Customer_Id', 'Rating'])\n",
        "\n",
        "\n",
        "\n",
        "df1['Rating'] = df1['Rating'].astype(float)\n",
        "df2['Rating'] = df2['Rating'].astype(float)\n",
        "df3['Rating'] = df3['Rating'].astype(float)                   #converting the rating variable into float type.\n",
        "df4['Rating'] = df4['Rating'].astype(float)\n",
        "\n",
        "\n",
        "d = df1\n",
        "d = d.append(df1)\n",
        "d = d.append(df2)                                             # appending the datasets into one\n",
        "d = d.append(df3)\n",
        "d = d.append(df4)"
      ],
      "execution_count": null,
      "outputs": []
    },
    {
      "cell_type": "markdown",
      "metadata": {
        "id": "_5uJA8Qsalny"
      },
      "source": [
        "# data view\n",
        "1. as we can see the data is organised in a way that first comes the movie id and then comes the raing given by all users to that movie\n",
        "2. There are four datasets given that contain rating given by users for each movie \n",
        "3. Dimensions  97,704,614 X 2 => 97.7 Million user ratings . A Total of l 17,434 movies listed. Need to extract features directly from patterns in data"
      ]
    },
    {
      "cell_type": "code",
      "metadata": {
        "colab": {
          "base_uri": "https://localhost:8080/",
          "height": 221
        },
        "id": "Gx2Yl6moCtBd",
        "outputId": "ef80a0de-2ee2-46bc-988c-15a9122864f7"
      },
      "source": [
        "print(d.shape)\n",
        "d.head()"
      ],
      "execution_count": null,
      "outputs": [
        {
          "output_type": "stream",
          "text": [
            "(97704614, 2)\n"
          ],
          "name": "stdout"
        },
        {
          "output_type": "execute_result",
          "data": {
            "text/html": [
              "<div>\n",
              "<style scoped>\n",
              "    .dataframe tbody tr th:only-of-type {\n",
              "        vertical-align: middle;\n",
              "    }\n",
              "\n",
              "    .dataframe tbody tr th {\n",
              "        vertical-align: top;\n",
              "    }\n",
              "\n",
              "    .dataframe thead th {\n",
              "        text-align: right;\n",
              "    }\n",
              "</style>\n",
              "<table border=\"1\" class=\"dataframe\">\n",
              "  <thead>\n",
              "    <tr style=\"text-align: right;\">\n",
              "      <th></th>\n",
              "      <th>Customer_Id</th>\n",
              "      <th>Rating</th>\n",
              "    </tr>\n",
              "  </thead>\n",
              "  <tbody>\n",
              "    <tr>\n",
              "      <th>0</th>\n",
              "      <td>1:</td>\n",
              "      <td>NaN</td>\n",
              "    </tr>\n",
              "    <tr>\n",
              "      <th>1</th>\n",
              "      <td>1488844</td>\n",
              "      <td>3.0</td>\n",
              "    </tr>\n",
              "    <tr>\n",
              "      <th>2</th>\n",
              "      <td>822109</td>\n",
              "      <td>5.0</td>\n",
              "    </tr>\n",
              "    <tr>\n",
              "      <th>3</th>\n",
              "      <td>885013</td>\n",
              "      <td>4.0</td>\n",
              "    </tr>\n",
              "    <tr>\n",
              "      <th>4</th>\n",
              "      <td>30878</td>\n",
              "      <td>4.0</td>\n",
              "    </tr>\n",
              "  </tbody>\n",
              "</table>\n",
              "</div>"
            ],
            "text/plain": [
              "  Customer_Id  Rating\n",
              "0          1:     NaN\n",
              "1     1488844     3.0\n",
              "2      822109     5.0\n",
              "3      885013     4.0\n",
              "4       30878     4.0"
            ]
          },
          "metadata": {
            "tags": []
          },
          "execution_count": 3
        }
      ]
    },
    {
      "cell_type": "code",
      "metadata": {
        "colab": {
          "base_uri": "https://localhost:8080/",
          "height": 476
        },
        "id": "aUqXwzjRyZvA",
        "outputId": "37f6b703-afb1-4f15-fa41-bd0d097c7259"
      },
      "source": [
        "df.index = np.arange(0,len(df))\n",
        "print('Full dataset shape: {}'.format(df.shape))\n",
        "print(df.iloc[::, :])\n",
        "df.head()"
      ],
      "execution_count": null,
      "outputs": [
        {
          "output_type": "stream",
          "text": [
            "Full dataset shape: (97704614, 2)\n",
            "-Dataset examples-\n",
            "         Customer_Id  Rating\n",
            "0                 1:     NaN\n",
            "1            1488844     3.0\n",
            "2             822109     5.0\n",
            "3             885013     4.0\n",
            "4              30878     4.0\n",
            "...              ...     ...\n",
            "97704609     2339129     4.0\n",
            "97704610       59005     4.0\n",
            "97704611     1789683     5.0\n",
            "97704612     1878798     1.0\n",
            "97704613     2634967     1.0\n",
            "\n",
            "[97704614 rows x 2 columns]\n"
          ],
          "name": "stdout"
        },
        {
          "output_type": "execute_result",
          "data": {
            "text/html": [
              "<div>\n",
              "<style scoped>\n",
              "    .dataframe tbody tr th:only-of-type {\n",
              "        vertical-align: middle;\n",
              "    }\n",
              "\n",
              "    .dataframe tbody tr th {\n",
              "        vertical-align: top;\n",
              "    }\n",
              "\n",
              "    .dataframe thead th {\n",
              "        text-align: right;\n",
              "    }\n",
              "</style>\n",
              "<table border=\"1\" class=\"dataframe\">\n",
              "  <thead>\n",
              "    <tr style=\"text-align: right;\">\n",
              "      <th></th>\n",
              "      <th>Customer_Id</th>\n",
              "      <th>Rating</th>\n",
              "    </tr>\n",
              "  </thead>\n",
              "  <tbody>\n",
              "    <tr>\n",
              "      <th>0</th>\n",
              "      <td>1:</td>\n",
              "      <td>NaN</td>\n",
              "    </tr>\n",
              "    <tr>\n",
              "      <th>1</th>\n",
              "      <td>1488844</td>\n",
              "      <td>3.0</td>\n",
              "    </tr>\n",
              "    <tr>\n",
              "      <th>2</th>\n",
              "      <td>822109</td>\n",
              "      <td>5.0</td>\n",
              "    </tr>\n",
              "    <tr>\n",
              "      <th>3</th>\n",
              "      <td>885013</td>\n",
              "      <td>4.0</td>\n",
              "    </tr>\n",
              "    <tr>\n",
              "      <th>4</th>\n",
              "      <td>30878</td>\n",
              "      <td>4.0</td>\n",
              "    </tr>\n",
              "  </tbody>\n",
              "</table>\n",
              "</div>"
            ],
            "text/plain": [
              "  Customer_Id  Rating\n",
              "0          1:     NaN\n",
              "1     1488844     3.0\n",
              "2      822109     5.0\n",
              "3      885013     4.0\n",
              "4       30878     4.0"
            ]
          },
          "metadata": {
            "tags": []
          },
          "execution_count": 5
        }
      ]
    },
    {
      "cell_type": "markdown",
      "metadata": {
        "id": "W_ptDAtUbVw3"
      },
      "source": [
        "## Plotting the user ratings\n",
        "1. the below graph gives the approximation about the number of users and movies and also the number of ratings given by them\n",
        "\n",
        "2. The are a total of 474,954 Customers A total of 17,866 Movies 97 Million Customer ratings given \n",
        "3. The ratings are a bit Positively biased as only satisfied customers keep using the platform Mostly the people who are unsatisfied prefer leaving the Platform rather than rating for bad movies."
      ]
    },
    {
      "cell_type": "code",
      "metadata": {
        "colab": {
          "base_uri": "https://localhost:8080/",
          "height": 596
        },
        "id": "INda8qRtyZxz",
        "outputId": "16d9bfd4-e255-477f-e900-3106e2e3dec2"
      },
      "source": [
        "p = df.groupby('Rating')['Rating'].agg(['count'])\n",
        "\n",
        "# get movie and customer count count\n",
        "total_movies    = df.isnull().sum()[1]\n",
        "total_customers = df['Customer_Id'].nunique() - total_movies\n",
        "total_ratings   = df['Customer_Id'].count()   - total_movies\n",
        "\n",
        "ax = p.plot(kind = 'barh', legend = False, figsize = (15,10))\n",
        "plt.title('Total pool: {:,} Movies, {:,} customers, {:,} ratings given'.format(total_movies, total_customers, total_ratings ), fontsize=20)\n",
        "plt.axis('off')\n",
        "\n",
        "for i in range(1,6):\n",
        "    ax.text(p.iloc[i-1][0]/4, i-1, 'Rating {}: {:.0f}%'.format(i, p.iloc[i-1][0]*100 / p.sum()[0]), color = 'white', weight = 'bold')"
      ],
      "execution_count": null,
      "outputs": [
        {
          "output_type": "display_data",
          "data": {
            "image/png": "[encoded data removed]",
            "text/plain": [
              "<Figure size 1080x720 with 1 Axes>"
            ]
          },
          "metadata": {
            "tags": []
          }
        }
      ]
    },
    {
      "cell_type": "code",
      "metadata": {
        "id": "fAulE7QQyZ0g"
      },
      "source": [
        "#taking the movie_id from the df and appending as a column in each iteration\n",
        "#to get the movie_id we look for Nan values in the ratings column and use that as a seperator between one movie ratinf and the other\n",
        "df_nan = pd.DataFrame(pd.isnull(df.Rating))\n",
        "df_nan = df_nan[df_nan['Rating'] == True]\n",
        "df_nan = df_nan.reset_index()\n",
        "\n",
        "#start with initilising the movie_id variable as 1 adn keep on incrementing it tilll it reaches the end \n",
        "movie_np = []\n",
        "movie_id = 1\n",
        "\n",
        "for i,j in zip(df_nan['index'][1:],df_nan['index'][:-1]):\n",
        "    temp = np.full((1,i-j-1), movie_id)\n",
        "    movie_np = np.append(movie_np, temp)\n",
        "    movie_id += 1\n",
        "#need to handle the last record saperately as the last part filling the last few rows with the movie_id to match the size of the dataframe\n",
        "last = np.full((1,len(df) - df_nan.iloc[-1, 0] - 1),movie_id)\n",
        "movie_np = np.append(movie_np, last)"
      ],
      "execution_count": null,
      "outputs": []
    },
    {
      "cell_type": "markdown",
      "metadata": {
        "id": "rVYeZZ0td19Q"
      },
      "source": [
        "## **Slicing and cleaning the dataset Part 1**\n",
        "1. Data is Huge with 96 Million ratings so its impossible to use for prediction, kernel runs out of memory.\n",
        "2. Removing Movies that have few reviews(Non popular Movies)\n",
        "3. Removing customers who had given less reviews(Less active Users)\n",
        "4. Keeping recourses in mind taking only top 70% of movies and ratings"
      ]
    },
    {
      "cell_type": "code",
      "metadata": {
        "colab": {
          "base_uri": "https://localhost:8080/"
        },
        "id": "l9-YPsw7yZ_2",
        "outputId": "218bd3d6-8909-4ef4-877e-9125d1485984"
      },
      "source": [
        "f = ['count','mean']\n",
        "\n",
        "df_movie_summary = df.groupby('Movie_Id')['Rating'].agg(f)\n",
        "df_movie_summary.index = df_movie_summary.index.map(int)\n",
        "\n",
        "movie_benchmark = round(df_movie_summary['count'].quantile(0.7),0)\n",
        "cust_benchmark = round(df_cust_summary['count'].quantile(0.7),0)\n",
        "\n",
        "drop_movie_list = df_movie_summary[df_movie_summary['count'] < movie_benchmark].index\n",
        "\n",
        "\n",
        "df_cust_summary = df.groupby('Cust_Id')['Rating'].agg(f)\n",
        "df_cust_summary.index = df_cust_summary.index.map(int)\n",
        "drop_cust_list = df_cust_summary[df_cust_summary['count'] < cust_benchmark].index\n",
        "\n",
        "print('Movie minimum times of review: {}'.format(movie_benchmark))\n",
        "print('Customer minimum times of review: {}'.format(cust_benchmark))"
      ],
      "execution_count": null,
      "outputs": [
        {
          "output_type": "stream",
          "text": [
            "Movie minimum times of review: 1799.0\n",
            "Customer minimum times of review: 52.0\n"
          ],
          "name": "stdout"
        }
      ]
    },
    {
      "cell_type": "markdown",
      "metadata": {
        "id": "6_tSmsailY3C"
      },
      "source": [
        "## Final Dataset\n",
        "1. The below is the original and final shape of the dataset after all the preprocessings are done and now this will be used for creating the final recommendation system.\n",
        "2. containing Cust_id, Rating, Movie_id as columns"
      ]
    },
    {
      "cell_type": "code",
      "metadata": {
        "colab": {
          "base_uri": "https://localhost:8080/"
        },
        "id": "xY4EZ8uNVYGV",
        "outputId": "a2d1842f-9bc0-4578-dad7-c6501ee4a9db"
      },
      "source": [
        "print('Original Shape: {}'.format(df.shape))\n",
        "# triming the dataset by removing the contetns in the swap list\n",
        "df = df[~df['Movie_Id'].isin(drop_movie_list)] \n",
        "df = df[~df['Cust_Id'].isin(drop_cust_list)]\n",
        "print('After Trim Shape: {}'.format(df.shape))\n",
        "print(df.iloc[::100, :])"
      ],
      "execution_count": null,
      "outputs": [
        {
          "output_type": "stream",
          "text": [
            "Original Shape: (4057475, 3)\n",
            "After Trim Shape: (1537342, 3)\n",
            "-Data Examples-\n",
            "         Cust_Id  Rating  Movie_Id\n",
            "5110      243963     3.0         8\n",
            "5424     2430016     4.0         8\n",
            "5755      107840     2.0         8\n",
            "6121       96124     3.0         8\n",
            "6448     1059428     3.0         8\n",
            "...          ...     ...       ...\n",
            "4057155  1632290     4.0       788\n",
            "4057397  1716677     5.0       788\n",
            "4057697  1888501     3.0       788\n",
            "4057908   150869     4.0       788\n",
            "4058140  1620331     4.0       788\n",
            "\n",
            "[15374 rows x 3 columns]\n"
          ],
          "name": "stdout"
        }
      ]
    },
    {
      "cell_type": "markdown",
      "metadata": {
        "id": "cGWSTOBxo_Gd"
      },
      "source": [
        "## **Creating adjacancy matrix**\n",
        "* here we are creating a pivot table which will be having the all users and the movies they have rated so far.\n",
        "* now our task is to predict the unkown ratings using the known ones even though the user havent seen it."
      ]
    },
    {
      "cell_type": "code",
      "metadata": {
        "colab": {
          "base_uri": "https://localhost:8080/"
        },
        "id": "T1_oXaT5yaGS",
        "outputId": "b7f5e8f3-3f23-415f-ec75-19a008094d2a"
      },
      "source": [
        "df_p = pd.pivot_table(df,values='Rating',index='Cust_Id',columns='Movie_Id')\n",
        "print(df_p.shape)"
      ],
      "execution_count": null,
      "outputs": [
        {
          "output_type": "stream",
          "text": [
            "(143458, 1350)\n"
          ],
          "name": "stdout"
        }
      ]
    },
    {
      "cell_type": "code",
      "metadata": {
        "colab": {
          "base_uri": "https://localhost:8080/"
        },
        "id": "Qfh5AIJKyftk",
        "outputId": "f41b6e06-bbdf-41c6-ca47-9caeb9b1b7af"
      },
      "source": [
        "df_title = pd.read_csv('/content/drive/MyDrive/Data_Mining_Project/movie_titles.csv', encoding = \"latin\", header = None, names = ['Movie_Id', 'Year', 'Name'])\n",
        "df_title.set_index('Movie_Id', inplace = True)\n",
        "print (df_title.head())"
      ],
      "execution_count": null,
      "outputs": [
        {
          "output_type": "stream",
          "text": [
            "            Year                          Name\n",
            "Movie_Id                                      \n",
            "1         2003.0               Dinosaur Planet\n",
            "2         2004.0    Isle of Man TT 2004 Review\n",
            "3         1997.0                     Character\n",
            "4         1994.0  Paula Abdul's Get Up & Dance\n",
            "5         2004.0      The Rise and Fall of ECW\n"
          ],
          "name": "stdout"
        }
      ]
    },
    {
      "cell_type": "markdown",
      "metadata": {
        "id": "bVj3PhZgqQ1f"
      },
      "source": [
        "To estimate all the unknown, we minimize the following regularized squared\n",
        "error\n",
        "The minimization is performed by a very straightforward stochastic gradient\n",
        "descent"
      ]
    },
    {
      "cell_type": "code",
      "metadata": {
        "id": "6aJwVfORyfww"
      },
      "source": [
        "reader = Reader()\n",
        "\n",
        "data = Dataset.load_from_df(df[['Cust_Id', 'Movie_Id', 'Rating']][:], reader)\n",
        "\n",
        "#Building the model \n",
        "svd = SVD()\n",
        "cross_validate(svd, data, measures=['RMSE', 'MAE'])"
      ],
      "execution_count": null,
      "outputs": []
    },
    {
      "cell_type": "code",
      "metadata": {
        "colab": {
          "base_uri": "https://localhost:8080/"
        },
        "id": "2OtyP6AmZKVj",
        "outputId": "09aeb71c-5332-487f-8b02-12291e495c33"
      },
      "source": [
        "df_c = df[(df['Cust_Id'] == 7) & (df['Rating'] == 5)]\n",
        "df_c = df_c.set_index('Movie_Id')\n",
        "df_c = df_c.join(df_title)['Name']\n",
        "print(df_c)"
      ],
      "execution_count": null,
      "outputs": [
        {
          "output_type": "stream",
          "text": [
            "Movie_Id\n",
            "8      What the #$*! Do We Know!?\n",
            "30         Something's Gotta Give\n",
            "83                       Silkwood\n",
            "175                Reservoir Dogs\n",
            "257               Charlotte's Web\n",
            "283     If These Walls Could Talk\n",
            "285               The Devil's Own\n",
            "313                Pay It Forward\n",
            "357         House of Sand and Fog\n",
            "457             Kill Bill: Vol. 2\n",
            "468       The Matrix: Revolutions\n",
            "501      Three Days of the Condor\n",
            "550                  First Knight\n",
            "689                One True Thing\n",
            "Name: Name, dtype: object\n"
          ],
          "name": "stdout"
        }
      ]
    },
    {
      "cell_type": "code",
      "metadata": {
        "colab": {
          "base_uri": "https://localhost:8080/"
        },
        "id": "ZkS-DZsPaSv3",
        "outputId": "68a89740-51ce-449d-f3d5-4cd9f002d5e3"
      },
      "source": [
        "user_7 = df_title.copy()\n",
        "user_7 = user_7.reset_index()\n",
        "user_7 = user_7[~user_7['Movie_Id'].isin(drop_movie_list)]\n",
        "\n",
        "# getting full dataset\n",
        "data = Dataset.load_from_df(df[['Cust_Id', 'Movie_Id', 'Rating']], reader)\n",
        "\n",
        "trainset = data.build_full_trainset()\n",
        "svd.fit(trainset)\n",
        "\n",
        "user_7['Estimate_Score'] = user_7['Movie_Id'].apply(lambda x: svd.predict(785314, x).est)\n",
        "\n",
        "user_7 = user_7.drop('Movie_Id', axis = 1)\n",
        "\n",
        "user_7 = user_7.sort_values('Estimate_Score', ascending=False)\n",
        "print(user_7.head(10))"
      ],
      "execution_count": null,
      "outputs": [
        {
          "output_type": "stream",
          "text": [
            "       Year                                           Name  Estimate_Score\n",
            "751  1993.0       Star Trek: The Next Generation: Season 7        4.203840\n",
            "222  2003.0                     Chappelle's Show: Season 1        4.199803\n",
            "240  1959.0                             North by Northwest        4.154098\n",
            "315  1999.0  Futurama: Monster Robot Maniac Fun Collection        4.136601\n",
            "576  1961.0                     The Twilight Zone: Vol. 36        4.111651\n",
            "358  2003.0                  Absolutely Fabulous: Series 5        4.106950\n",
            "174  1992.0                                 Reservoir Dogs        4.098080\n",
            "252  1935.0                           A Night at the Opera        4.082527\n",
            "462  1962.0                     The Twilight Zone: Vol. 12        4.072753\n",
            "721  2003.0                             The Wire: Season 1        4.062626\n"
          ],
          "name": "stdout"
        }
      ]
    }
  ]
}