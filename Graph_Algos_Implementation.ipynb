{
  "nbformat": 4,
  "nbformat_minor": 0,
  "metadata": {
    "colab": {
      "name": "Graph Algos Implementation.ipynb",
      "provenance": [],
      "collapsed_sections": []
    },
    "kernelspec": {
      "name": "python3",
      "display_name": "Python 3"
    }
  },
  "cells": [
    {
      "cell_type": "code",
      "metadata": {
        "colab": {
          "base_uri": "https://localhost:8080/"
        },
        "id": "0CxqQstS_x06",
        "outputId": "a692e13b-7a4b-4c1e-cb2f-05352187083d"
      },
      "source": [
        "class Node:\n",
        "  def __init__(self,data):\n",
        "    self.data = data\n",
        "    self.next = None\n",
        "\n",
        "class LinkedList:\n",
        "  def __init__(self):\n",
        "    self.head = None\n",
        "    \n",
        "  # Method to add new node into LL at the end\n",
        "  def atEnd(self, data):\n",
        "    NewNode = Node(data)              #creating new box ie..Node\n",
        "\n",
        "    if self.head is None:\n",
        "      self.head = NewNode             #IF head is null insertion at lead happens\n",
        "      return\n",
        "\n",
        "    last_ele = self.head\n",
        "\n",
        "    while( last_ele.next):\n",
        "      last_ele = last_ele.next        #travesing till the last Box\n",
        "\n",
        "    last_ele.next = NewNode           #Joining new box at the end of Last Box\n",
        "\n",
        "  def printList(self):\n",
        "    temp = self.head                  #capturing the head\n",
        "    while temp is not None:           #traversing till the end\n",
        "\n",
        "      print(temp.data)\n",
        "      temp = temp.next\n",
        "\n",
        "\n",
        "ll = LinkedList()\n",
        "\n",
        "ll.atEnd(1)\n",
        "ll.atEnd(2)\n",
        "ll.atEnd(3)\n",
        "ll.atEnd(4)\n",
        "ll.atEnd(5)\n",
        "ll.atEnd(6)\n",
        "ll.atEnd(7)\n",
        "ll.atEnd(8)\n",
        "ll.atEnd(9)\n",
        "\n",
        "ll.printList()\n",
        "  \n",
        "\n",
        "\n"
      ],
      "execution_count": null,
      "outputs": [
        {
          "output_type": "stream",
          "text": [
            "1\n",
            "2\n",
            "3\n",
            "4\n",
            "5\n",
            "6\n",
            "7\n",
            "8\n",
            "9\n"
          ],
          "name": "stdout"
        }
      ]
    },
    {
      "cell_type": "code",
      "metadata": {
        "colab": {
          "base_uri": "https://localhost:8080/"
        },
        "id": "KVByy3ctjNYl",
        "outputId": "9307596b-ac39-4c35-a524-13e15323ab01"
      },
      "source": [
        "# Python program to find the longest substring with k unique \n",
        "# characters in a given string \n",
        "MAX_CHARS = 26\n",
        "\n",
        "# This function calculates number of unique characters \n",
        "# using a associative array count[]. Returns true if \n",
        "# no. of characters are less than required else returns \n",
        "# false. \n",
        "def isValid(count, k): \n",
        "\tval = 0\n",
        "\tfor i in range(MAX_CHARS): \n",
        "\t\tif count[i] > 0: \n",
        "\t\t\tval += 1\n",
        "\n",
        "\t# Return true if k is greater than or equal to val \n",
        "\treturn (k >= val) \n",
        "\n",
        "# Finds the maximum substring with exactly k unique characters \n",
        "def kUniques(s, k): \n",
        "\tu = 0 # number of unique characters \n",
        "\tn = len(s) \n",
        "\n",
        "\t# Associative array to store the count \n",
        "\tcount = [0] * MAX_CHARS \n",
        "\n",
        "\t# Tranverse the string, fills the associative array \n",
        "\t# count[] and count number of unique characters \n",
        "\tfor i in range(n): \n",
        "\t\tif count[ord(s[i])-ord('a')] == 0: \n",
        "\t\t\tu += 1\n",
        "\t\tcount[ord(s[i])-ord('a')] += 1\n",
        "\n",
        "\t# If there are not enough unique characters, show \n",
        "\t# an error message. \n",
        "\tif u < k: \n",
        "\t\tprint (\"Not enough unique characters\") \n",
        "\t\treturn\n",
        "\n",
        "\t# Otherwise take a window with first element in it. \n",
        "\t# start and end variables. \n",
        "\tcurr_start = 0\n",
        "\tcurr_end = 0\n",
        "\n",
        "\t# Also initialize values for result longest window \n",
        "\tmax_window_size = 1\n",
        "\tmax_window_start = 0\n",
        "\n",
        "\t# Initialize associative array count[] with zero \n",
        "\tcount = [0] * len(count) \n",
        "\n",
        "\tcount[ord(s[0])-ord('a')] += 1 # put the first character \n",
        "\n",
        "\t# Start from the second character and add \n",
        "\t# characters in window according to above \n",
        "\t# explanation \n",
        "\tfor i in range(1,n): \n",
        "\n",
        "\t\t# Add the character 's[i]' to current window \n",
        "\t\tcount[ord(s[i])-ord('a')] += 1\n",
        "\t\tcurr_end+=1\n",
        "\n",
        "\t\t# If there are more than k unique characters in \n",
        "\t\t# current window, remove from left side \n",
        "\t\twhile not isValid(count, k): \n",
        "\t\t\tcount[ord(s[curr_start])-ord('a')] -= 1\n",
        "\t\t\tcurr_start += 1\n",
        "\n",
        "\t\t# Update the max window size if required \n",
        "\t\tif curr_end-curr_start+1 > max_window_size: \n",
        "\t\t\tmax_window_size = curr_end-curr_start+1\n",
        "\t\t\tmax_window_start = curr_start \n",
        "\n",
        "\tprint (\"Max substring is : \" + s[max_window_start:max_window_start + max_window_size] \n",
        "\t+ \" with length \" + str(max_window_size)) \n",
        "\n",
        "# Driver function \n",
        "s = \"aabacbebebe\"\n",
        "k = 3\n",
        "kUniques(s, k) \n",
        "\n",
        "# This code is contributed by BHAVYA JAIN \n"
      ],
      "execution_count": null,
      "outputs": [
        {
          "output_type": "stream",
          "text": [
            "Max substring is : cbebebe with length 7\n"
          ],
          "name": "stdout"
        }
      ]
    },
    {
      "cell_type": "code",
      "metadata": {
        "id": "CoButLY8PfsG"
      },
      "source": [
        "\n",
        "\n"
      ],
      "execution_count": null,
      "outputs": []
    },
    {
      "cell_type": "code",
      "metadata": {
        "id": "Osc0a4VmkCkw"
      },
      "source": [
        "def lengthOfLongestSubstring(self, s: str) -> int:\n",
        "    charSet = set()\n",
        "    l = 0\n",
        "    r = 0\n",
        "    res = 0\n",
        "    for r in range(len(s)):\n",
        "        while s[r] in charSet:\n",
        "            charSet.remove(s[l])\n",
        "            l += 1\n",
        "        charSet.add(s[r])\n",
        "        res = max(res,r-l+1)\n",
        "    \n",
        "    return res"
      ],
      "execution_count": null,
      "outputs": []
    },
    {
      "cell_type": "code",
      "metadata": {
        "id": "kChzE1wA4pQk"
      },
      "source": [
        "# linked list cycle 2\n",
        "class Solution:\n",
        "    def detectCycle(self, head: ListNode) -> ListNode:\n",
        "        if head == None or head.next == None : return\n",
        "        slow = ListNode()\n",
        "        fast = ListNode()\n",
        "        slow.next = head\n",
        "        fast.next = head\n",
        "        while fast != None and fast.next != None:\n",
        "            fast = fast.next.next\n",
        "            slow = slow.next\n",
        "            if slow == fast: break\n",
        "                \n",
        "        if not fast or not fast.next: return None\n",
        "         \n",
        "        while(head != slow):\n",
        "            slow = slow.next\n",
        "            head = head.next\n",
        "            \n",
        "        return slow\n",
        "        "
      ],
      "execution_count": null,
      "outputs": []
    },
    {
      "cell_type": "code",
      "metadata": {
        "id": "rxGagoF5FK_f"
      },
      "source": [
        "class ListNode:\n",
        "    def __init__(self,data):\n",
        "        self.val = data\n",
        "        self.next = None\n",
        "class MyLinkedList:\n",
        "\n",
        "    def __init__(self):\n",
        "        self.head = ListNode(-1)\n",
        "        self.length = 0\n",
        "\n",
        "    def get(self, index: int) -> int:\n",
        "        if index < 0 or index >= self.length:\n",
        "            return -1\n",
        "        temp = self.head\n",
        "        for _ in range(index+1):\n",
        "            temp = temp.next\n",
        "        return temp.val\n",
        "        \n",
        "\n",
        "    def addAtHead(self, val: int) -> None:\n",
        "\n",
        "        nn  = ListNode(val)\n",
        "        nn.next = self.head.next\n",
        "        self.head.next = nn\n",
        "        self.length +=1\n",
        "        \n",
        "    def addAtTail(self, val: int) -> None:\n",
        "\n",
        "        nn =ListNode(val)\n",
        "        temp = self.head\n",
        "        for _ in range(self.length) :\n",
        "            temp = temp.next\n",
        "        temp.next = nn\n",
        "        self.length += 1\n",
        "            \n",
        "\n",
        "    def addAtIndex(self, index: int, val: int) -> None:\n",
        "        if index < 0 or index >= self.length:\n",
        "            return -1\n",
        "        nn = ListNode(val)\n",
        "        temp = self.head\n",
        "        for _ in range(index):\n",
        "            temp = temp.next\n",
        "        nn.next = temp.next\n",
        "        temp.next = nn\n",
        "        self.length += 1\n",
        "        \n",
        "\n",
        "    def deleteAtIndex(self, index: int) -> None:\n",
        "        \"\"\"\n",
        "        Delete the index-th node in the linked list, if the index is valid.\n",
        "        \"\"\"\n",
        "        if index < 0 or index >= self.length:\n",
        "            return -1\n",
        "\n",
        "        temp = self.head\n",
        "        for _ in range(index):\n",
        "            temp = temp.next\n",
        "        temp.next = temp.next.next\n",
        "        self.length -= 1\n",
        "        \n",
        "\n",
        "# [\"MyLinkedList\",\"addAtHead\",\"addAtHead\",\"addAtHead\",\"addAtIndex\",\"deleteAtIndex\",\"addAtHead\",\"addAtTail\",\"get\",\"addAtHead\",\"addAtIndex\",\"addAtHead\"]\n",
        "# [[],[7],[2],[1],[3,0],[2],[6],[4],[4],[4],[5,0],[6]]"
      ],
      "execution_count": null,
      "outputs": []
    },
    {
      "cell_type": "code",
      "metadata": {
        "id": "KfBh1jVigbeV",
        "colab": {
          "base_uri": "https://localhost:8080/"
        },
        "outputId": "6bd4763d-81f8-48e0-b55c-e833239aab6b"
      },
      "source": [
        "#Bst Implementation\n",
        "\n",
        "class Node:\n",
        "  def __init__(self,value = None):\n",
        "    self.value = value\n",
        "    self.left = None\n",
        "    self.right = None\n",
        "    self.parent = None\n",
        "\n",
        "class bst:\n",
        "  def __init__(self):\n",
        "    self.root = None \n",
        "  \n",
        "  def insert(self,value):\n",
        "    if self.root == None:\n",
        "      self.root = Node(value)\n",
        "    else:\n",
        "      self._insert(value,self.root)\n",
        "  def _insert(self,value,curr_node):\n",
        "    if value < curr_node.value:\n",
        "      if curr_node.left == None:\n",
        "        curr_node.left = Node(value)\n",
        "        curr_node.left.parent = curr_node   #parent\n",
        "      else:\n",
        "        self._insert(value,curr_node.left)\n",
        "\n",
        "\n",
        "    elif value > curr_node.value:\n",
        "      if curr_node.right == None:\n",
        "        curr_node.right = Node(value)\n",
        "        curr_node.right.parent = curr_node         #parent\n",
        "      else:\n",
        "        self._insert(value,curr_node.right)\n",
        "    \n",
        "    else:\n",
        "      print(\"Value already in Tree\")\n",
        "\n",
        "  def height_tree(self):\n",
        "    if self.root != None :\n",
        "      return self._height(self.root,0)\n",
        "    else: return 0\n",
        "  def _height(self, curr_node, curr_height):\n",
        "    if curr_node == None: return curr_height\n",
        "    left_height = self._height(curr_node.left, curr_height +1)\n",
        "    right_height = self._height(curr_node.right, curr_height +1)\n",
        "    return max(left_height, right_height)\n",
        "\n",
        "  #Returns the Node with specified input Value \n",
        "  def find(self,value):\n",
        "    if self.root != None: return self._find(value,self.root)\n",
        "    else: return None\n",
        "  def _find(self, value, curr_node):\n",
        "    if value == curr_node.value: return curr_node\n",
        "    elif value < curr_node.value and curr_node.left != None: return self._find(value, curr_node.left)\n",
        "    elif value > curr_node.value and curr_node.right != None: return self._find(value, curr_node.right)\n",
        "\n",
        "  def delete_value(self,value):return self.delete_node(self.find(value))\n",
        "  def delete_node(self, node):\n",
        "    if node ==None or self.find(node.value) == None:\n",
        "      print(\"Node to be deleted not found\")\n",
        "      return None\n",
        "    #returns the node with min value in tree rooted at input node\n",
        "    def min_value_node(n):\n",
        "      current = n\n",
        "      while current.left != None:\n",
        "        currnt = current.left\n",
        "      return current\n",
        "    \n",
        "    #return the number of childern for the specified node\n",
        "    def num_childern(n):\n",
        "      num_childern = 0\n",
        "      if n.left != None: num_childern += 1\n",
        "      if n.right != None: num_childern += 1\n",
        "      return num_childern\n",
        "    #get the parent of the node to be deleted\n",
        "    node_parent = node.parent\n",
        "\n",
        "    #get the number of childern of node to be deleted\n",
        "    node_childern = num_childern(node)\n",
        "\n",
        "    #(case1) Node has 0 childern---------------------------------------------------->1\n",
        "    if node_childern == 0:\n",
        "      #remove the referneceto the node from the parent\n",
        "      if node_parent.left == node: node_parent.left = None\n",
        "      else: node_parent.right = None\n",
        "\n",
        "    #case 2 (node has a single child)------------------------------------------------->2\n",
        "    if node_childern == 1:\n",
        "      #get the single node child\n",
        "      if node.left != None: child = node.left\n",
        "      else: child = node.right\n",
        "\n",
        "      #replace the node to be deleted with its child\n",
        "      if node_parent.left == Node: node_parent.left = child\n",
        "      else: node_parent.right = child\n",
        "\n",
        "      child.parent = node.parent\n",
        "\n",
        "    #case 3 (node has 2 childern)------------------------------------------------------>3\n",
        "    if node_childern == 2:\n",
        "      #get the inorder sucessor of the deleted node\n",
        "      successor = min_value_node(node.right)\n",
        "\n",
        "      # copy the inorder successor value into the node we wish to delete\n",
        "      node.value = successor.value\n",
        "\n",
        "      #delete the inorder successor of the node now that its value has been copied\n",
        "      self.delete_node(successor)\n",
        "\n",
        "\n",
        "\n",
        "  #returns true if given value exists in the tree\n",
        "  def search(self, value):\n",
        "    if self.root != None:\n",
        "      return self._search(value,self.root)\n",
        "    else:\n",
        "      return False\n",
        "  def _search(self, value, curr_node):\n",
        "    if value == curr_node.value: return True\n",
        "    elif value < curr_node.value and curr_node.left != None:\n",
        "      return self._search(value,curr_node.left)\n",
        "    elif value > curr_node.value and curr_node.right != None:\n",
        "      return self._search(value,curr_node.right)\n",
        "    return False\n",
        "  def print_tree(self):\n",
        "    if self.root != None:\n",
        "      self._print_tree(self.root)\n",
        "  def _print_tree(self,curr_node):\n",
        "    if curr_node != None:\n",
        "      self._print_tree(curr_node.left)\n",
        "      print(str(curr_node.value))\n",
        "      self._print_tree(curr_node.right)\n",
        "\n",
        "\n",
        "def fill_tree(tree,num_eles = 100, max_int = 1000):\n",
        "  from random import randint\n",
        "  for _ in range(num_eles):\n",
        "    curr_ele = randint(0,max_int)\n",
        "    tree.insert(curr_ele)\n",
        "\n",
        "tree = bst()\n",
        "#fill_tree(tree)\n",
        "tree.insert(5)\n",
        "tree.insert(4)\n",
        "tree.insert(6)\n",
        "tree.insert(10)\n",
        "tree.insert(9)\n",
        "tree.insert(11)\n",
        "\n",
        "tree.print_tree()\n",
        "print(\"Height of tree: \"+str(tree.height_tree()))\n",
        "\n",
        "tree.delete_value(9)\n",
        "tree.print_tree()\n"
      ],
      "execution_count": null,
      "outputs": [
        {
          "output_type": "stream",
          "text": [
            "4\n",
            "5\n",
            "6\n",
            "9\n",
            "10\n",
            "11\n",
            "Height of tree: 4\n",
            "4\n",
            "5\n",
            "6\n",
            "10\n",
            "11\n"
          ],
          "name": "stdout"
        }
      ]
    },
    {
      "cell_type": "code",
      "metadata": {
        "id": "K8dIgd55Tij7"
      },
      "source": [
        ""
      ],
      "execution_count": null,
      "outputs": []
    },
    {
      "cell_type": "code",
      "metadata": {
        "id": "8NRKssqRTihq",
        "colab": {
          "base_uri": "https://localhost:8080/"
        },
        "outputId": "3051d749-5da2-4133-8d6c-243cc9c53920"
      },
      "source": [
        "nodes = [0,1,2,3,4,5]\n",
        "\n",
        "edges = {(0,1):1,\n",
        "         (0,2):1.5,\n",
        "         (0,3):3,\n",
        "         (1,4):2.5,\n",
        "         (1,3):0.5,\n",
        "         (2,3):1.5,\n",
        "         (3,5):1,\n",
        "         (4,5):2\n",
        "}\n",
        "\n",
        "\n",
        "# adjacent_nodes = {v: {} for v in nodes}\n",
        "\n",
        "# for (u,v),w_uv in edges.items():\n",
        "\n",
        "#   adjacent_nodes[u][v] = w_uv       \n",
        "#   adjacent_nodes[v][u] = w_uv\n",
        "\n",
        "# adjacent_nodes\n",
        "\n",
        "distance = {v:float('inf') for v in nodes} \n",
        "distance"
      ],
      "execution_count": null,
      "outputs": [
        {
          "output_type": "execute_result",
          "data": {
            "text/plain": [
              "{0: inf, 1: inf, 2: inf, 3: inf, 4: inf, 5: inf}"
            ]
          },
          "metadata": {
            "tags": []
          },
          "execution_count": 15
        }
      ]
    },
    {
      "cell_type": "code",
      "metadata": {
        "id": "ViD4dVlH6hUz"
      },
      "source": [
        ""
      ],
      "execution_count": null,
      "outputs": []
    },
    {
      "cell_type": "code",
      "metadata": {
        "id": "9-bV2YSttffa"
      },
      "source": [
        "nodes = [0,1,2,3,4,5]\n",
        "\n",
        "edges = {(0,1):1,\n",
        "         (0,2):1.5,\n",
        "         (0,3):3,\n",
        "         (1,4):2.5,\n",
        "         (1,3):0.5,\n",
        "         (2,3):1.5,\n",
        "         (3,5):1,\n",
        "         (4,5):2\n",
        "}\n",
        "\n",
        "\n",
        "def dijkstra(nodes, edges, source_index = 0):\n",
        "  #step1\n",
        "  distance = {v:float('inf') for v in nodes} \n",
        "  distance[source_index] = 0\n",
        "\n",
        "  #step2\n",
        "  #creating an adjacent nodes dictionary for all the surrounding nodes of the source node\n",
        "\n",
        "  adjacent_nodes = {v: {} for v in nodes}\n",
        "\n",
        "  for (u,v),w_uv in edges.items():\n",
        "\n",
        "    adjacent_nodes[u][v] = w_uv        #[u]. ---> key of main dict  [v] key of sub dict.  w_uv ---> value\n",
        "    adjacent_nodes[v][u] = w_uv\n",
        "\n",
        "  temp_nodes = [v for v in nodes]\n",
        "\n",
        "  while len(temp_nodes) > 0:\n",
        "    upper_bounds = {v:distance[v] for v in temp_nodes}\n",
        "    u = min(upper_bounds,key = upper_bounds.get)\n",
        "    temp_nodes.remove(u)\n",
        "\n",
        "    for v, w_uv in adjacent_nodes[u].items():\n",
        "      distance[v] = min(distance[v], distance[u]+w_uv) \n",
        "\n",
        "  return distance\n"
      ],
      "execution_count": null,
      "outputs": []
    },
    {
      "cell_type": "code",
      "metadata": {
        "colab": {
          "base_uri": "https://localhost:8080/"
        },
        "id": "4ZIM7Bd-tWwc",
        "outputId": "fc590702-bd70-4ac4-8d45-cce1a1d09c53"
      },
      "source": [
        "dijkstra(nodes, edges, source_index = 1)"
      ],
      "execution_count": null,
      "outputs": [
        {
          "output_type": "execute_result",
          "data": {
            "text/plain": [
              "{0: 1, 1: 0, 2: 2.0, 3: 0.5, 4: 2.5, 5: 1.5}"
            ]
          },
          "metadata": {
            "tags": []
          },
          "execution_count": 20
        }
      ]
    },
    {
      "cell_type": "code",
      "metadata": {
        "id": "Kk0OSY8AqzgT"
      },
      "source": [
        ""
      ],
      "execution_count": null,
      "outputs": []
    },
    {
      "cell_type": "code",
      "metadata": {
        "id": "9F3Qjb1Zqxrt"
      },
      "source": [
        ""
      ],
      "execution_count": null,
      "outputs": []
    },
    {
      "cell_type": "code",
      "metadata": {
        "id": "RLoVfpEXqs9d"
      },
      "source": [
        ""
      ],
      "execution_count": null,
      "outputs": []
    },
    {
      "cell_type": "code",
      "metadata": {
        "id": "Es3sPeyNqkjN"
      },
      "source": [
        ""
      ],
      "execution_count": null,
      "outputs": []
    },
    {
      "cell_type": "code",
      "metadata": {
        "id": "_N6WKqG9qeQE"
      },
      "source": [
        ""
      ],
      "execution_count": null,
      "outputs": []
    },
    {
      "cell_type": "code",
      "metadata": {
        "id": "PUt83PIYTifR"
      },
      "source": [
        ""
      ],
      "execution_count": null,
      "outputs": []
    },
    {
      "cell_type": "code",
      "metadata": {
        "id": "wbzF6330Ticx"
      },
      "source": [
        ""
      ],
      "execution_count": null,
      "outputs": []
    },
    {
      "cell_type": "code",
      "metadata": {
        "id": "QW2p6OXeTiaV"
      },
      "source": [
        ""
      ],
      "execution_count": null,
      "outputs": []
    },
    {
      "cell_type": "code",
      "metadata": {
        "id": "eg8lm-hUTiYB"
      },
      "source": [
        ""
      ],
      "execution_count": null,
      "outputs": []
    },
    {
      "cell_type": "code",
      "metadata": {
        "id": "A4JqiuKVTiVm"
      },
      "source": [
        ""
      ],
      "execution_count": null,
      "outputs": []
    },
    {
      "cell_type": "code",
      "metadata": {
        "id": "xVCPVN7RTiTC"
      },
      "source": [
        ""
      ],
      "execution_count": null,
      "outputs": []
    },
    {
      "cell_type": "code",
      "metadata": {
        "id": "zsth_zNpTiQf"
      },
      "source": [
        ""
      ],
      "execution_count": null,
      "outputs": []
    },
    {
      "cell_type": "code",
      "metadata": {
        "id": "JAuMuUgGTiMr"
      },
      "source": [
        ""
      ],
      "execution_count": null,
      "outputs": []
    },
    {
      "cell_type": "code",
      "metadata": {
        "id": "WH5bYtPMTiJm"
      },
      "source": [
        ""
      ],
      "execution_count": null,
      "outputs": []
    }
  ]
}