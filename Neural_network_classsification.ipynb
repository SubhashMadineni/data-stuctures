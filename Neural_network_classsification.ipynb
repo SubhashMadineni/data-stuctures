{
  "nbformat": 4,
  "nbformat_minor": 0,
  "metadata": {
    "colab": {
      "name": "Neural network classsification.ipynb",
      "private_outputs": true,
      "provenance": []
    },
    "kernelspec": {
      "name": "python3",
      "display_name": "Python 3"
    },
    "language_info": {
      "name": "python"
    },
    "accelerator": "TPU"
  },
  "cells": [
    {
      "cell_type": "code",
      "metadata": {
        "id": "qCs31AdiC_GC"
      },
      "source": [
        "from numpy.random import seed\n",
        "seed(4940)\n",
        "import tensorflow\n",
        "tensorflow.random.set_seed(80)\n",
        "\n",
        "import numpy as np\n",
        "from keras import regularizers\n",
        "from keras.layers import Dense\n",
        "from keras.models import Sequential\n",
        "import preprocess #from preprocessing \n",
        "from Report_Results import report_results\n",
        "from utils import *"
      ],
      "execution_count": null,
      "outputs": []
    },
    {
      "cell_type": "code",
      "metadata": {
        "id": "-4pQULeVDOKp"
      },
      "source": [
        "from Compas_NN import*"
      ],
      "execution_count": null,
      "outputs": []
    },
    {
      "cell_type": "code",
      "metadata": {
        "id": "GXakH_hU8U5_"
      },
      "source": [
        "#pip install preprocess\n",
        "from preprocess import*"
      ],
      "execution_count": null,
      "outputs": []
    },
    {
      "cell_type": "code",
      "metadata": {
        "id": "RknIHY0O7uEK"
      },
      "source": [
        "# from sklearn import preprocessing\n",
        "# from sklearn.preprocessing import preprocess"
      ],
      "execution_count": null,
      "outputs": []
    },
    {
      "cell_type": "code",
      "metadata": {
        "id": "EZWnhODHDOTZ"
      },
      "source": [
        "def neural_network_classification(metrics):\n",
        "\n",
        "    training_data, training_labels, test_data, test_labels, categories, mappings = preprocess(metrics)\n",
        "\n",
        "    activation = \"relu\"\n",
        "    model = Sequential()\n",
        "    model.add(Dense(len(metrics)*2, activation=activation, kernel_regularizer=regularizers.l2(0.1), input_shape = (len(metrics), )))\n",
        "    model.add(Dense(30, activation=activation, kernel_regularizer=regularizers.l2(0.1)))\n",
        "    model.add(Dense(1, activation='sigmoid'))\n",
        "\n",
        "    model.compile(optimizer='adam', loss=\"binary_crossentropy\")\n",
        "    model.fit(training_data, training_labels, epochs=30, batch_size=300, validation_data=(test_data, test_labels), verbose=0)\n",
        "\n",
        "    data = np.concatenate((training_data, test_data))\n",
        "    labels = np.concatenate((training_labels, test_labels))\n",
        "\n",
        "    predictions = model.predict(data)\n",
        "    predictions = np.squeeze(predictions, axis=1)\n",
        "\n",
        "    return data, predictions, labels, categories, mappings\n",
        "\n",
        "metrics = [\"sex\", \"age_cat\", \"race\", 'c_charge_degree', 'priors_count']\n",
        "\n",
        "# Changing the int value sets the number of models to create before choosing the \"best\" one\n",
        "data, predictions, labels, categories, mappings = neural_network_classification(metrics)\n",
        "race_cases = get_cases_by_metric(data, categories, \"race\", mappings, predictions, labels)\n",
        "\n",
        "report_results(race_cases)"
      ],
      "execution_count": null,
      "outputs": []
    },
    {
      "cell_type": "code",
      "metadata": {
        "id": "mPAKzt5fDO4S"
      },
      "source": [
        "Compas_NN.py.neural_network_classification(metrics)\n"
      ],
      "execution_count": null,
      "outputs": []
    },
    {
      "cell_type": "code",
      "metadata": {
        "id": "K4GkJZK6DO7k"
      },
      "source": [
        ""
      ],
      "execution_count": null,
      "outputs": []
    }
  ]
}