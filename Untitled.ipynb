{
  "nbformat": 4,
  "nbformat_minor": 0,
  "metadata": {
    "colab": {
      "name": "Untitled",
      "provenance": []
    },
    "kernelspec": {
      "name": "python3",
      "display_name": "Python 3"
    }
  },
  "cells": [
    {
      "cell_type": "code",
      "metadata": {
        "colab": {
          "base_uri": "https://localhost:8080/"
        },
        "id": "_Ud2A9kNdV6L",
        "outputId": "7ad463c3-e434-404e-edc8-c17a557a31c7"
      },
      "source": [
        "A = [[1,2,3],[4,5,6],[7,8,9]]\n",
        "r = list(zip(*A[::-1]))\n",
        "print(r)"
      ],
      "execution_count": null,
      "outputs": [
        {
          "output_type": "stream",
          "text": [
            "[(7, 4, 1), (8, 5, 2), (9, 6, 3)]\n"
          ],
          "name": "stdout"
        }
      ]
    },
    {
      "cell_type": "code",
      "metadata": {
        "colab": {
          "base_uri": "https://localhost:8080/"
        },
        "id": "y_Jzon0Pk7oX",
        "outputId": "7d2d4a0e-ba3a-4c2d-a464-6ffbf4698bf3"
      },
      "source": [
        "166//2"
      ],
      "execution_count": null,
      "outputs": [
        {
          "output_type": "execute_result",
          "data": {
            "text/plain": [
              "83"
            ]
          },
          "metadata": {
            "tags": []
          },
          "execution_count": 13
        }
      ]
    },
    {
      "cell_type": "code",
      "metadata": {
        "colab": {
          "base_uri": "https://localhost:8080/"
        },
        "id": "OJqBHqeZk7q_",
        "outputId": "6827d674-738e-41df-922e-623fa1b9ae4c"
      },
      "source": [
        "a = 100\n",
        "\n",
        "\n",
        "count = 0\n",
        "while(a):\n",
        "  count += a&1\n",
        "  a >>= 1\n",
        "  \n",
        "print(count)"
      ],
      "execution_count": null,
      "outputs": [
        {
          "output_type": "stream",
          "text": [
            "3\n"
          ],
          "name": "stdout"
        }
      ]
    },
    {
      "cell_type": "code",
      "metadata": {
        "colab": {
          "base_uri": "https://localhost:8080/"
        },
        "id": "XM94adGpk7tH",
        "outputId": "640fc098-2156-49af-8da1-e94e6dd527f2"
      },
      "source": [
        "\n",
        "def  countSetBits(n):\n",
        "    count = 0\n",
        "    while (n):\n",
        "        count += n & 1\n",
        "        n >>= 1\n",
        "    return count\n",
        " \n",
        " \n",
        "i = 100\n",
        "print(countSetBits(i))"
      ],
      "execution_count": null,
      "outputs": [
        {
          "output_type": "stream",
          "text": [
            "3\n"
          ],
          "name": "stdout"
        }
      ]
    },
    {
      "cell_type": "code",
      "metadata": {
        "id": "Dxh1eUQgZbzs"
      },
      "source": [
        ""
      ],
      "execution_count": null,
      "outputs": []
    },
    {
      "cell_type": "code",
      "metadata": {
        "id": "XGYS0UWPYh9G"
      },
      "source": [
        "s = \"192.164.01.1\"\n",
        "l =[int(e) for e in s.split(\".\")]\n",
        "\n",
        "for e in l:\n",
        "  if e not in range(0,256): print( \"Invalid Ip\")\n",
        "  elif: e not\n",
        "\n",
        "#print(l)"
      ],
      "execution_count": null,
      "outputs": []
    },
    {
      "cell_type": "code",
      "metadata": {
        "id": "DuLsehInYh7u"
      },
      "source": [
        "matrix = []\n",
        "for i in range(n_rows):          # A for loop for row entries\n",
        "    a =[ ]\n",
        "    a.append(int(input()))\n",
        "    matrix.append(a)"
      ],
      "execution_count": null,
      "outputs": []
    },
    {
      "cell_type": "code",
      "metadata": {
        "colab": {
          "base_uri": "https://localhost:8080/"
        },
        "id": "6-6fIqeqYh5B",
        "outputId": "e97a22aa-c89a-4a41-fdb1-cd8f7c691a17"
      },
      "source": [
        "nums1 = [1,234,67,3645,24]\n",
        "nums2 = [324,5436,89,3,674]\n",
        "\n",
        "merged = nums1 +nums2\n",
        "\n",
        "merged.sort(reverse = True)\n",
        "print(merged)\n"
      ],
      "execution_count": null,
      "outputs": [
        {
          "output_type": "stream",
          "text": [
            "[5436, 3645, 674, 324, 234, 89, 67, 24, 3, 1]\n"
          ],
          "name": "stdout"
        }
      ]
    },
    {
      "cell_type": "code",
      "metadata": {
        "colab": {
          "base_uri": "https://localhost:8080/"
        },
        "id": "WXQKkTBzYh2_",
        "outputId": "5b40f77a-587f-4aa7-b3ed-1d697d1e2748"
      },
      "source": [
        "print(int(2.7))"
      ],
      "execution_count": null,
      "outputs": [
        {
          "output_type": "stream",
          "text": [
            "2\n"
          ],
          "name": "stdout"
        }
      ]
    },
    {
      "cell_type": "code",
      "metadata": {
        "colab": {
          "base_uri": "https://localhost:8080/"
        },
        "id": "aA2r9jy9Yhm6",
        "outputId": "91ed7ee1-68e0-4659-e7e0-aa6fd094463b"
      },
      "source": [
        "nums1 = [1,2]\n",
        "nums2 = [3,4]\n",
        "m = len(nums1)\n",
        "n = len(nums2)\n",
        "\n",
        "merged = nums1 + nums2\n",
        "m_len = len(merged)\n",
        "merged.sort()\n",
        "\n",
        "if len(merged) %2 !=0:\n",
        "    median = merged[int(m_len/2)]\n",
        "    print( median)\n",
        "else:\n",
        "    median = (merged[int(m_len/2)] + merged[int((m_len/2))-1] )/2\n",
        "    print( median"
      ],
      "execution_count": null,
      "outputs": [
        {
          "output_type": "stream",
          "text": [
            "2.5\n"
          ],
          "name": "stdout"
        }
      ]
    },
    {
      "cell_type": "code",
      "metadata": {
        "colab": {
          "base_uri": "https://localhost:8080/"
        },
        "id": "Qnt2Qfu9YhkO",
        "outputId": "24f08b2d-4eb9-4a7b-ac6c-ccf72b5a1b1b"
      },
      "source": [
        "nums = [12,17,15,13,10,11,12]\n",
        "msum = 0\n",
        "msumfinal = 0\n",
        "\n",
        "for e in nums:\n",
        "    if msum < (msum+e):\n",
        "\n",
        "      msum = max(msum,msum+e)\n",
        "      print(msum)\n",
        "    else:\n",
        "      msumfinal = max(msumfinal,msum)\n",
        "      #print(msumfinal)\n",
        "      msum = 0\n",
        "        \n",
        "print(msumfinal ) #max(msumfinal,msum))"
      ],
      "execution_count": null,
      "outputs": [
        {
          "output_type": "stream",
          "text": [
            "12\n",
            "29\n",
            "44\n",
            "57\n",
            "67\n",
            "78\n",
            "90\n",
            "0\n"
          ],
          "name": "stdout"
        }
      ]
    },
    {
      "cell_type": "code",
      "metadata": {
        "colab": {
          "base_uri": "https://localhost:8080/"
        },
        "id": "8cFQTNaOuUxk",
        "outputId": "9296dba3-62a4-4989-8462-946298d175bb"
      },
      "source": [
        "1110010&1"
      ],
      "execution_count": null,
      "outputs": [
        {
          "output_type": "execute_result",
          "data": {
            "text/plain": [
              "0"
            ]
          },
          "metadata": {
            "tags": []
          },
          "execution_count": 35
        }
      ]
    }
  ]
}